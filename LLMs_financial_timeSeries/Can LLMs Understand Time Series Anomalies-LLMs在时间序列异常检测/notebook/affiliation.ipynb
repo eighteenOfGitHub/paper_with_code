{
 "cells": [
  {
   "cell_type": "code",
   "execution_count": null,
   "metadata": {},
   "outputs": [],
   "source": [
    "%load_ext autoreload\n",
    "%autoreload 2\n",
    "%config InlineBackend.figure_format = 'retina'"
   ]
  },
  {
   "cell_type": "code",
   "execution_count": null,
   "metadata": {},
   "outputs": [],
   "source": [
    "from prompt import time_series_to_image\n",
    "from utils import view_base64_image, display_messages, collect_results\n",
    "from data.synthetic import SyntheticDataset\n",
    "\n",
    "data_name = 'point'\n",
    "data_dir = f'data/synthetic/{data_name}/eval/'\n",
    "train_dir = f'data/synthetic/{data_name}/train/'\n",
    "eval_dataset = SyntheticDataset(data_dir)\n",
    "eval_dataset.load()\n",
    "train_dataset = SyntheticDataset(train_dir)\n",
    "train_dataset.load()"
   ]
  },
  {
   "cell_type": "code",
   "execution_count": null,
   "metadata": {},
   "outputs": [],
   "source": [
    "from utils import plot_series_and_predictions\n",
    "\n",
    "idx = 0\n",
    "directory = f'results/synthetic/{data_name}'\n",
    "series = eval_dataset[idx][1].numpy()\n",
    "anomaly_locations = eval_dataset[idx][0].numpy()\n",
    "\n",
    "raw_results = collect_results(directory, raw=True)\n",
    "raw_results = {k: v[idx] for k, v in raw_results.items()}\n",
    "results = collect_results(directory)\n",
    "results = {k: v[idx] for k, v in results.items()}\n",
    "\n",
    "fig = plot_series_and_predictions(\n",
    "    series=series, \n",
    "    gt_anomaly_intervals=anomaly_locations,\n",
    "    anomalies=results\n",
    ")"
   ]
  },
  {
   "cell_type": "code",
   "execution_count": null,
   "metadata": {},
   "outputs": [],
   "source": [
    "from utils import display_messages\n",
    "\n",
    "display_messages(raw_results['gpt-4o (0shot-vision)']['request']['messages'])"
   ]
  },
  {
   "cell_type": "code",
   "execution_count": null,
   "metadata": {},
   "outputs": [],
   "source": [
    "print(list(raw_results.values())[0]['response'])"
   ]
  },
  {
   "cell_type": "code",
   "execution_count": null,
   "metadata": {},
   "outputs": [],
   "source": [
    "from utils import interval_to_vector\n",
    "gt = interval_to_vector(anomaly_locations[0])"
   ]
  },
  {
   "cell_type": "code",
   "execution_count": null,
   "metadata": {},
   "outputs": [],
   "source": [
    "import pandas as pd\n",
    "from sklearn.metrics import precision_score, recall_score\n",
    "from affiliation.generics import convert_vector_to_events\n",
    "from affiliation.metrics import pr_from_events\n",
    "from utils import compute_metrics\n",
    "\n",
    "data = {}\n",
    "\n",
    "for name, prediction in results.items():\n",
    "    metrics = compute_metrics(gt, prediction)\n",
    "    data[name] = metrics\n",
    "\n",
    "df = pd.DataFrame(data).T\n",
    "df\n"
   ]
  },
  {
   "cell_type": "code",
   "execution_count": null,
   "metadata": {},
   "outputs": [],
   "source": [
    "# Keep only the first four columns\n",
    "df = df.iloc[:, :4].fillna(0)"
   ]
  },
  {
   "cell_type": "code",
   "execution_count": null,
   "metadata": {},
   "outputs": [],
   "source": [
    "{k: v['response'] for k, v in raw_results.items()}"
   ]
  },
  {
   "cell_type": "code",
   "execution_count": null,
   "metadata": {},
   "outputs": [],
   "source": [
    "from utils import highlight_by_ranking\n",
    "from IPython.core.display import HTML\n",
    "styled_df = highlight_by_ranking(df.T).T\n",
    "HTML(styled_df.to_html(escape=False))\n"
   ]
  },
  {
   "cell_type": "code",
   "execution_count": null,
   "metadata": {},
   "outputs": [],
   "source": [
    "results = collect_results(directory)"
   ]
  },
  {
   "cell_type": "code",
   "execution_count": null,
   "metadata": {},
   "outputs": [],
   "source": [
    "import numpy as np\n",
    "import pandas as pd\n",
    "from tqdm import trange\n",
    "from utils import compute_metrics, interval_to_vector\n",
    "\n",
    "# Initialize dictionary to store results\n",
    "metric_names = ['precision', 'recall', 'f1', 'affi precision', 'affi recall', 'affi f1']\n",
    "\n",
    "results_dict = {\n",
    "    key: [[] for _ in metric_names] for key in results.keys()\n",
    "}\n",
    "\n",
    "# Initialize DataFrame to store results\n",
    "df_list = []\n",
    "\n",
    "for i in trange(0, 400):\n",
    "    series = eval_dataset[idx][1].numpy()\n",
    "    anomaly_locations = eval_dataset[idx][0].numpy()\n",
    "    gt = interval_to_vector(anomaly_locations[0])\n",
    "\n",
    "    for name, prediction in results.items():\n",
    "        metrics = compute_metrics(gt, prediction[i])\n",
    "        for idx, metric_name in enumerate(metric_names):\n",
    "            results_dict[name][idx].append(metrics[metric_name])\n",
    "\n",
    "# Convert dictionary to DataFrame\n",
    "df = pd.DataFrame({k: np.mean(v, axis=1) for k, v in results_dict.items()}, \n",
    "                  index=['precision', 'recall', 'f1', 'affi precision', 'affi recall', 'affi f1'])\n",
    "\n",
    "df.T"
   ]
  },
  {
   "cell_type": "code",
   "execution_count": null,
   "metadata": {},
   "outputs": [],
   "source": [
    "styled_df = highlight_by_ranking(df).T\n",
    "# To visualize the output in Jupyter Notebook\n",
    "from IPython.core.display import HTML\n",
    "HTML(styled_df.to_html(escape=False))"
   ]
  },
  {
   "cell_type": "code",
   "execution_count": null,
   "metadata": {},
   "outputs": [],
   "source": [
    "from utils import styled_df_to_latex\n",
    "\n",
    "latex_table = styled_df_to_latex(styled_df, \"Point Anomalies in Sine Wave\", label=\"point_exp\")\n",
    "print(latex_table)"
   ]
  },
  {
   "cell_type": "code",
   "execution_count": null,
   "metadata": {},
   "outputs": [],
   "source": []
  }
 ],
 "metadata": {
  "kernelspec": {
   "display_name": "Python 3",
   "language": "python",
   "name": "python3"
  },
  "language_info": {
   "codemirror_mode": {
    "name": "ipython",
    "version": 3
   },
   "file_extension": ".py",
   "mimetype": "text/x-python",
   "name": "python",
   "nbconvert_exporter": "python",
   "pygments_lexer": "ipython3",
   "version": "3.10.14"
  }
 },
 "nbformat": 4,
 "nbformat_minor": 2
}
